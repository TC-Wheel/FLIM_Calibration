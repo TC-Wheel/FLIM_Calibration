{
 "cells": [
  {
   "cell_type": "markdown",
   "metadata": {},
   "source": [
    "# Just for Fun\n",
    "I just wanted to try to make a heat-map of where differences show up for different values. Maybe it isn't useful, but I think it would be a good way to visualize the data."
   ]
  },
  {
   "cell_type": "markdown",
   "metadata": {},
   "source": [
    "### Part 1 - Importing the Data"
   ]
  },
  {
   "cell_type": "markdown",
   "metadata": {},
   "source": [
    "(reusing my path-finding script)"
   ]
  },
  {
   "cell_type": "code",
   "execution_count": 2,
   "metadata": {},
   "outputs": [],
   "source": [
    "import os\n",
    "import numpy as np\n",
    "import matplotlib.pyplot as plt"
   ]
  },
  {
   "cell_type": "code",
   "execution_count": 3,
   "metadata": {},
   "outputs": [],
   "source": [
    "#doing it this way should find the output_data folder on any OS type or file location\n",
    "#pathlib\n",
    "script_path = os.getcwd()\n",
    "scr_scans_path = os.path.abspath(os.path.join(script_path, \"..\", \"data\", \"09-08-22_FLIM\", \"SPC_analyzed\", \"output_data\"))\n",
    "\n",
    "#define path lists\n",
    "color_coded_data_paths = []\n",
    "chi_data_paths = []\n",
    "photons_data_paths = []\n",
    "\n",
    "#glob lib\n",
    "#populate out path lists\n",
    "for r, d, files in os.walk(scr_scans_path):\n",
    "    for file in files:\n",
    "        file_extension = file[-3:]\n",
    "        if file_extension != \"asc\":\n",
    "            continue #skip the non asc files\n",
    "        full_file_path = os.path.join(scr_scans_path, file)\n",
    "        if \"_color coded value\" in file:\n",
    "            color_coded_data_paths.append(full_file_path)\n",
    "            continue\n",
    "        if \"_chi\" in file:\n",
    "            chi_data_paths.append(full_file_path)\n",
    "            continue\n",
    "        if \"_photons\" in file:\n",
    "            photons_data_paths.append(full_file_path)"
   ]
  },
  {
   "cell_type": "markdown",
   "metadata": {},
   "source": [
    "Making a list of NumPy arrays for each of the SPC outputs. (new script)"
   ]
  },
  {
   "cell_type": "code",
   "execution_count": 42,
   "metadata": {},
   "outputs": [
    {
     "name": "stdout",
     "output_type": "stream",
     "text": [
      "256\n"
     ]
    }
   ],
   "source": [
    "\n",
    "#make the empty dicts to fill later\n",
    "color_coded_data = {}\n",
    "chi_data = {}\n",
    "photons_data = {}\n",
    "\n",
    "\n",
    "def make_np_arrays_from_paths(paths, array_output):\n",
    "    \"\"\"We take our found paths of spc output, and we make np arrays from the data\n",
    "    and put them into a hashmap (dict) using the array_output as the name\"\"\"\n",
    "    for ind, path in enumerate(paths):\n",
    "        array_name = f\"array_numb{ ind}\"\n",
    "        array_output[array_name] = np.genfromtxt(path, delimiter=' ')\n",
    "\n",
    "make_np_arrays_from_paths(color_coded_data_paths, color_coded_data)\n",
    "make_np_arrays_from_paths(chi_data_paths, chi_data)\n",
    "make_np_arrays_from_paths(photons_data_paths, photons_data)\n",
    "\n",
    "#these arrays are 256 x 256"
   ]
  },
  {
   "cell_type": "markdown",
   "metadata": {},
   "source": [
    "### Part 2 - Math-ing the Arrays to Show Differences\n",
    "How do we determine the best way to represent the differences and their magnitude in the data....?"
   ]
  },
  {
   "cell_type": "markdown",
   "metadata": {},
   "source": [
    "My idea is this (I just made this up, idk if it is good or not.)\n",
    "1. Calculate the average for each point - call this array average_array\n",
    "2. Subtract each array by the average_array - call these the subtract_array1 etc\n",
    "3. Multiply all subtract arrays - call this array magnitude_of_difference_array "
   ]
  },
  {
   "cell_type": "markdown",
   "metadata": {},
   "source": [
    "##### 2.1 Calculate the average of each point"
   ]
  },
  {
   "cell_type": "code",
   "execution_count": 65,
   "metadata": {},
   "outputs": [],
   "source": [
    "\n",
    "def make_avg_array(input_data):\n",
    "    \"\"\"the average array is what you get if you all all the values individually\n",
    "    and divide by the total number of arrays you have\"\"\"\n",
    "    first_array = input_data[\"array_numb0\"] #we take the shape of the first array\n",
    "    avg_array = np.zeros(first_array.shape)\n",
    "    array_number = 0 #this is bascially a counter of how many arrays there are.\n",
    "    for k, array in input_data.items(): #loop through and add each point on the array up\n",
    "        avg_array += array\n",
    "        array_number += 1\n",
    "\n",
    "    return avg_array / array_number #divide each point on the array by the total number of arrays\n",
    "\n",
    "\n",
    "#make the avg_arrays for each\n",
    "color_avg_array = make_avg_array(color_coded_data)\n",
    "chi_avg_array = make_avg_array(chi_data)\n",
    "photons_avg_array = make_avg_array(photons_data)\n",
    "\n",
    "#print(plt.imshow(color_avg_array))\n",
    "#print(plt.imshow(chi_avg_array))\n",
    "#print(plt.imshow(photons_avg_array))\n",
    "\n",
    "\n",
    "# print(color_avg_array)\n",
    "# print(np.max(color_avg_array))\n",
    "# print(plt.imshow(color_avg_array))"
   ]
  },
  {
   "cell_type": "markdown",
   "metadata": {},
   "source": [
    "#### 2.2 Subtract each array by the average_array"
   ]
  },
  {
   "cell_type": "code",
   "execution_count": null,
   "metadata": {},
   "outputs": [],
   "source": []
  }
 ],
 "metadata": {
  "kernelspec": {
   "display_name": "Python 3.10.5 ('flim_venv': venv)",
   "language": "python",
   "name": "python3"
  },
  "language_info": {
   "codemirror_mode": {
    "name": "ipython",
    "version": 3
   },
   "file_extension": ".py",
   "mimetype": "text/x-python",
   "name": "python",
   "nbconvert_exporter": "python",
   "pygments_lexer": "ipython3",
   "version": "3.10.5"
  },
  "orig_nbformat": 4,
  "vscode": {
   "interpreter": {
    "hash": "2d88d3e3e1a254d52aa63b6630103b8be4d38adf02642f0b81083642e6564814"
   }
  }
 },
 "nbformat": 4,
 "nbformat_minor": 2
}
