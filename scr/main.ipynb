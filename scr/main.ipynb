{
 "cells": [
  {
   "cell_type": "markdown",
   "metadata": {},
   "source": [
    "# "
   ]
  },
  {
   "cell_type": "markdown",
   "metadata": {},
   "source": [
    "# Main script"
   ]
  },
  {
   "cell_type": "markdown",
   "metadata": {},
   "source": [
    "### 0 - Data parsing"
   ]
  },
  {
   "cell_type": "markdown",
   "metadata": {},
   "source": [
    "Q0.0: Are we able to parse the data with NumPy using genfromtxt?"
   ]
  },
  {
   "cell_type": "code",
   "execution_count": 2,
   "metadata": {},
   "outputs": [
    {
     "data": {
      "text/plain": [
       "<matplotlib.image.AxesImage at 0x2037fb7aaa0>"
      ]
     },
     "execution_count": 2,
     "metadata": {},
     "output_type": "execute_result"
    },
    {
     "data": {
      "image/png": "[encoded data removed]",
      "text/plain": [
       "<Figure size 640x480 with 1 Axes>"
      ]
     },
     "metadata": {},
     "output_type": "display_data"
    }
   ],
   "source": [
    "import numpy as np\n",
    "import matplotlib.pyplot as plt\n",
    "test_array1 = np.genfromtxt('Pollensample_0011_color coded value.asc', delimiter=' ')\n",
    "np.max(test_array1)\n",
    "plt.imshow(test_array1)"
   ]
  },
  {
   "cell_type": "markdown",
   "metadata": {},
   "source": [
    "A0.0: Yes"
   ]
  },
  {
   "cell_type": "markdown",
   "metadata": {},
   "source": [
    "Q0.1: Can we locate the data an put it into specific lists?"
   ]
  },
  {
   "cell_type": "code",
   "execution_count": 22,
   "metadata": {},
   "outputs": [],
   "source": [
    "import os\n",
    "#doing it this way should find the output_data folder on any OS type or file location\n",
    "#pathlib\n",
    "script_path = os.getcwd()\n",
    "scr_scans_path = os.path.abspath(os.path.join(script_path, \"..\", \"data\", \"09-08-22_FLIM\", \"SPC_analyzed\", \"output_data\"))\n",
    "\n",
    "#define path lists\n",
    "color_coded_data_paths = []\n",
    "chi_data_paths = []\n",
    "photons_data_paths = []\n",
    "\n",
    "#glob lib\n",
    "#populate out path lists\n",
    "for r, d, files in os.walk(scr_scans_path):\n",
    "    for file in files:\n",
    "        file_extension = file[-3:]\n",
    "        if file_extension != \"asc\":\n",
    "            continue #skip the non asc files\n",
    "        full_file_path = os.path.join(scr_scans_path, file)\n",
    "        if \"_color coded value\" in file:\n",
    "            color_coded_data_paths.append(full_file_path)\n",
    "            continue\n",
    "        if \"_chi\" in file:\n",
    "            chi_data_paths.append(full_file_path)\n",
    "            continue\n",
    "        if \"_photons\" in file:\n",
    "            photons_data_paths.append(full_file_path)\n",
    "\n",
    "#if you're want to see that it works, feel free to look\n",
    "# print(f\"{color_coded_data_paths = }\")\n",
    "# print(f\"{chi_data_paths = }\")\n",
    "# print(f\"{photons_data_paths = }\")\n"
   ]
  },
  {
   "cell_type": "markdown",
   "metadata": {},
   "source": [
    "A0.2: Yes"
   ]
  },
  {
   "cell_type": "markdown",
   "metadata": {},
   "source": [
    "Q0.3: Can we process the data into NumPy arrays?"
   ]
  },
  {
   "cell_type": "code",
   "execution_count": null,
   "metadata": {},
   "outputs": [],
   "source": []
  },
  {
   "cell_type": "markdown",
   "metadata": {},
   "source": [
    "### 1 - Making a Mask"
   ]
  },
  {
   "cell_type": "markdown",
   "metadata": {},
   "source": [
    "Q1.0: If we mask out all zeros, will the array be the same size between scans? (Will we have a consistant mask?)"
   ]
  },
  {
   "cell_type": "code",
   "execution_count": 2,
   "metadata": {},
   "outputs": [
    {
     "name": "stdout",
     "output_type": "stream",
     "text": [
      "size(test_array1) = 2783 \n",
      "size(test_array2) = 2797\n"
     ]
    }
   ],
   "source": [
    "test_array2 = np.genfromtxt('Pollensample_0061_color coded value.asc', delimiter=' ')\n",
    "#np.max(test_array2) #the max value is different between the two. no suprise\n",
    "\n",
    "#scikit-image (segementation)\n",
    "#apply the mask to the first and then use that for the rest\n",
    "\n",
    "def size(np_array):\n",
    "    \"\"\"Tells us the length of the array with all the zeros cut out.\"\"\"\n",
    "    no_zeros_array = np_array[np_array > 0]\n",
    "    return np.size(no_zeros_array)\n",
    "\n",
    "print(f'{size(test_array1) = } \\n{size(test_array2) = }')"
   ]
  },
  {
   "cell_type": "markdown",
   "metadata": {},
   "source": [
    "A1.0: No. This means-\n",
    "1. The boarders of the pollen grains change size between runs\n",
    "2. Applying a constant mask will lose data"
   ]
  },
  {
   "cell_type": "markdown",
   "metadata": {},
   "source": [
    "Q1.1: What our my options for masking? "
   ]
  },
  {
   "cell_type": "markdown",
   "metadata": {},
   "source": [
    "A1.1: I could create varriable mask sizes by over-defining the upper and lower bounds of the pollen grains, and then remove the leading/trailing zeros. (This seems the best to me right now, but I could be wrong.)"
   ]
  },
  {
   "cell_type": "markdown",
   "metadata": {},
   "source": [
    "Q1.2: How do I mask the sets of overlapping pollen grains?"
   ]
  },
  {
   "cell_type": "markdown",
   "metadata": {},
   "source": [
    "Skikit-image might allow me to mask out the pollen grains...\n",
    "There's a lot to learn with skimage and masking. I might just manually mask in this situation, and then figure out segmenting another time. For now, I need to better understand matplotlib in order to figure out how to make the plots. That will help me the most in the long run.\n",
    "Something I want to try though... I want to visualize where FLIM actually is different between runs. I want to make an array for each pixel, and measure the magnutude of differences. If a pixel is super different between runs, I'll color it red or something. Make a heat-map. \n",
    "Even if I get an array for each value of a given pixel over time... how will I measure/compare the magnitude of difference?\n"
   ]
  },
  {
   "cell_type": "code",
   "execution_count": null,
   "metadata": {},
   "outputs": [],
   "source": []
  }
 ],
 "metadata": {
  "kernelspec": {
   "display_name": "Python 3.10.7 ('py310venv': venv)",
   "language": "python",
   "name": "python3"
  },
  "language_info": {
   "codemirror_mode": {
    "name": "ipython",
    "version": 3
   },
   "file_extension": ".py",
   "mimetype": "text/x-python",
   "name": "python",
   "nbconvert_exporter": "python",
   "pygments_lexer": "ipython3",
   "version": "3.10.7"
  },
  "orig_nbformat": 4,
  "vscode": {
   "interpreter": {
    "hash": "002aa6f4211f8319d8276a1e1b89d91d670d6fe356514f62f5ed28ceb555f144"
   }
  }
 },
 "nbformat": 4,
 "nbformat_minor": 2
}
