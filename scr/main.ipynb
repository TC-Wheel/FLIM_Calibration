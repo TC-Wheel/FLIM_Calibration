{
 "cells": [
  {
   "cell_type": "markdown",
   "metadata": {},
   "source": [
    "# "
   ]
  },
  {
   "cell_type": "markdown",
   "metadata": {},
   "source": [
    "# Main script"
   ]
  },
  {
   "cell_type": "markdown",
   "metadata": {},
   "source": [
    "### 0 - Data parsing"
   ]
  },
  {
   "cell_type": "markdown",
   "metadata": {},
   "source": [
    "Q0.0: Are we able to parse the data?"
   ]
  },
  {
   "cell_type": "code",
   "execution_count": 1,
   "metadata": {},
   "outputs": [
    {
     "data": {
      "text/plain": [
       "2552.6"
      ]
     },
     "execution_count": 1,
     "metadata": {},
     "output_type": "execute_result"
    }
   ],
   "source": [
    "import numpy as np\n",
    "test_array1 = np.genfromtxt('Pollensample_0011_color coded value.asc', delimiter=' ')\n",
    "np.max(test_array1)"
   ]
  },
  {
   "cell_type": "markdown",
   "metadata": {},
   "source": [
    "A0.0: Yes"
   ]
  },
  {
   "cell_type": "markdown",
   "metadata": {},
   "source": [
    "Next steps \n",
    "- use OS module to generate a list of filenames\n",
    "- loop through the filenames and create a list (or hashmap) of numpy arrays (to later pass through masking and then to data analysis)"
   ]
  },
  {
   "cell_type": "markdown",
   "metadata": {},
   "source": [
    "### 1 - Making a Mask"
   ]
  },
  {
   "cell_type": "markdown",
   "metadata": {},
   "source": [
    "Q1.0: If we mask out all zeros, will the array be the same size between scans? (Will we have a consistant mask?)"
   ]
  },
  {
   "cell_type": "code",
   "execution_count": 2,
   "metadata": {},
   "outputs": [
    {
     "name": "stdout",
     "output_type": "stream",
     "text": [
      "size(test_array1) = 2783 \n",
      "size(test_array2) = 2797\n"
     ]
    }
   ],
   "source": [
    "test_array2 = np.genfromtxt('Pollensample_0061_color coded value.asc', delimiter=' ')\n",
    "#np.max(test_array2) #the max value is different between the two. no suprise\n",
    "\n",
    "def size(np_array):\n",
    "    \"\"\"Tells us the length of the array with all the zeros cut out.\"\"\"\n",
    "    no_zeros_array = np_array[np_array > 0]\n",
    "    return np.size(no_zeros_array)\n",
    "\n",
    "print(f'{size(test_array1) = } \\n{size(test_array2) = }')"
   ]
  },
  {
   "cell_type": "markdown",
   "metadata": {},
   "source": [
    "A1.0: No. This means-\n",
    "1. The boarders of the pollen grains change size between runs\n",
    "2. Applying a constant mask will lose data"
   ]
  },
  {
   "cell_type": "markdown",
   "metadata": {},
   "source": [
    "Q1.1: What our my options for masking? "
   ]
  },
  {
   "cell_type": "markdown",
   "metadata": {},
   "source": [
    "A1.1: I could create varriable mask sizes by over-defining the upper and lower bounds of the pollen grains, and then remove the leading/trailing zeros. (This seems the best to me right now, but I could be wrong.)"
   ]
  },
  {
   "cell_type": "markdown",
   "metadata": {},
   "source": [
    "Q1.2: How do I mask the sets of overlapping pollen grains?"
   ]
  }
 ],
 "metadata": {
  "kernelspec": {
   "display_name": "Python 3.10.5 ('flim_venv': venv)",
   "language": "python",
   "name": "python3"
  },
  "language_info": {
   "codemirror_mode": {
    "name": "ipython",
    "version": 3
   },
   "file_extension": ".py",
   "mimetype": "text/x-python",
   "name": "python",
   "nbconvert_exporter": "python",
   "pygments_lexer": "ipython3",
   "version": "3.10.5"
  },
  "orig_nbformat": 4,
  "vscode": {
   "interpreter": {
    "hash": "2d88d3e3e1a254d52aa63b6630103b8be4d38adf02642f0b81083642e6564814"
   }
  }
 },
 "nbformat": 4,
 "nbformat_minor": 2
}
