{
 "cells": [
  {
   "cell_type": "markdown",
   "metadata": {},
   "source": [
    "# "
   ]
  },
  {
   "cell_type": "markdown",
   "metadata": {},
   "source": [
    "# Main script"
   ]
  },
  {
   "cell_type": "markdown",
   "metadata": {},
   "source": [
    "### Data parsing"
   ]
  },
  {
   "cell_type": "markdown",
   "metadata": {},
   "source": [
    "Q1: Are we able to parse the data?"
   ]
  },
  {
   "cell_type": "code",
   "execution_count": 9,
   "metadata": {},
   "outputs": [
    {
     "data": {
      "text/plain": [
       "2552.6"
      ]
     },
     "execution_count": 9,
     "metadata": {},
     "output_type": "execute_result"
    }
   ],
   "source": [
    "import numpy as np\n",
    "test_array1 = np.genfromtxt('Pollensample_0011_color coded value.asc', delimiter=' ')\n",
    "np.max(test_array1)"
   ]
  },
  {
   "cell_type": "markdown",
   "metadata": {},
   "source": [
    "A1: Yes"
   ]
  },
  {
   "cell_type": "markdown",
   "metadata": {},
   "source": [
    "Q2: If we mask out all zeros, will the array be the same size between scans? (Will we have a consistant mask?)"
   ]
  },
  {
   "cell_type": "code",
   "execution_count": 21,
   "metadata": {},
   "outputs": [
    {
     "name": "stdout",
     "output_type": "stream",
     "text": [
      "size(test_array1) = 2783 \n",
      "size(test_array2) = 2797\n"
     ]
    }
   ],
   "source": [
    "test_array2 = np.genfromtxt('Pollensample_0061_color coded value.asc', delimiter=' ')\n",
    "#np.max(test_array2) #the max value is different between the two. no suprise\n",
    "\n",
    "def size(np_array):\n",
    "    \"\"\"Tells us the length of the array with a mask over the 0s applied.\"\"\"\n",
    "    no_zeros_array = np_array[np_array > 0]\n",
    "    return np.size(no_zeros_array)\n",
    "\n",
    "print(f'{size(test_array1) = } \\n{size(test_array2) = }')"
   ]
  },
  {
   "cell_type": "markdown",
   "metadata": {},
   "source": [
    "A2: No. This means-\n",
    "1. The boarders of the pollen grains change size between runs\n",
    "2. Applying a constant mask will lose data"
   ]
  }
 ],
 "metadata": {
  "kernelspec": {
   "display_name": "Python 3.10.7 ('py310venv': venv)",
   "language": "python",
   "name": "python3"
  },
  "language_info": {
   "codemirror_mode": {
    "name": "ipython",
    "version": 3
   },
   "file_extension": ".py",
   "mimetype": "text/x-python",
   "name": "python",
   "nbconvert_exporter": "python",
   "pygments_lexer": "ipython3",
   "version": "3.10.7"
  },
  "orig_nbformat": 4,
  "vscode": {
   "interpreter": {
    "hash": "002aa6f4211f8319d8276a1e1b89d91d670d6fe356514f62f5ed28ceb555f144"
   }
  }
 },
 "nbformat": 4,
 "nbformat_minor": 2
}
