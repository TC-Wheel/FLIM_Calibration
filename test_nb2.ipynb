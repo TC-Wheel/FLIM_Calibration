{
 "cells": [
  {
   "cell_type": "markdown",
   "id": "f0e40086-27b2-4c27-a617-e156e841b849",
   "metadata": {},
   "source": [
    "# This is the test"
   ]
  },
  {
   "cell_type": "code",
   "execution_count": 7,
   "id": "8dcd300b-e6a8-4ad2-8f2b-89c9aa58d726",
   "metadata": {},
   "outputs": [],
   "source": [
    "test = \"maybe\""
   ]
  },
  {
   "cell_type": "code",
   "execution_count": 8,
   "id": "be43d89f-3418-4d24-983c-300c2f964e71",
   "metadata": {},
   "outputs": [
    {
     "name": "stdout",
     "output_type": "stream",
     "text": [
      "fstrings? maybe\n"
     ]
    }
   ],
   "source": [
    "print(f'fstrings? {test}')"
   ]
  },
  {
   "cell_type": "code",
   "execution_count": 3,
   "id": "bd09c8ee-4e03-4c38-a2ec-78ac9b359599",
   "metadata": {},
   "outputs": [
    {
     "name": "stdout",
     "output_type": "stream",
     "text": [
      "yes\n"
     ]
    }
   ],
   "source": [
    "print(test)"
   ]
  }
 ],
 "metadata": {
  "kernelspec": {
   "display_name": "Python 3 (ipykernel)",
   "language": "python",
   "name": "python3"
  },
  "language_info": {
   "codemirror_mode": {
    "name": "ipython",
    "version": 3
   },
   "file_extension": ".py",
   "mimetype": "text/x-python",
   "name": "python",
   "nbconvert_exporter": "python",
   "pygments_lexer": "ipython3",
   "version": "3.10.7"
  }
 },
 "nbformat": 4,
 "nbformat_minor": 5
}
